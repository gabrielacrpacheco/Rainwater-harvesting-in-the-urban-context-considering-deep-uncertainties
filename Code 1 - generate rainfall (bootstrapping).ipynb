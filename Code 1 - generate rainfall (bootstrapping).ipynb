{
 "cells": [
  {
   "cell_type": "code",
   "execution_count": 5,
   "metadata": {},
   "outputs": [
    {
     "name": "stdout",
     "output_type": "stream",
     "text": [
      "Rainfall file name: Rainfall_Formosa\n"
     ]
    }
   ],
   "source": [
    "####PLUVIOMETRIC DATA\n",
    "##Booststrapping -  choosing a representative year between the n years of the series for each year and then for each scenario.\n",
    "##Input data: rainfall file (csv file with daily precipitation in a column) and the initial date of precipitation data.\n",
    "##Obs: the results files are created by the program and saved to the folder where that script is saved.\n",
    "\n",
    "import csv, math\n",
    "from datetime import date, datetime, timedelta\n",
    "from dateutil.relativedelta import relativedelta\n",
    "import random\n",
    "\n",
    "#open rainfall file (csv file with daily precipitation in a column)\n",
    "rain=input(f'Rainfall file name: ')\n",
    "with open (rain+'.csv', 'r') as datarain:\n",
    "    filerain=csv.reader(datarain,delimiter=';')\n",
    "    listrain=list(filerain)    \n",
    "datarain.close()\n",
    "\n",
    "#make a list of the daily precipitation of each year with the n years \n",
    "date0=datetime.strptime('01/10/1996','%d/%m/%Y')\n",
    "date=date0-timedelta(days=1)\n",
    "n=1\n",
    "list_rain_year=[]\n",
    "list_rain_total=[]\n",
    "for i in listrain:\n",
    "    date+=timedelta(days=1)\n",
    "    datet=date0+relativedelta(years=n)\n",
    "    difference=datet-date\n",
    "    list_rain_year.append(i)\n",
    "    if int(difference.days)==1:\n",
    "            n+=1\n",
    "            list_rain_total.append(list_rain_year)\n",
    "            list_rain_year=[]\n",
    "            \n",
    "#bootstrapping - choose one year from the list for each year (can repeat the same year) repeats 1000 times        \n",
    "list_scenarios_rain=[]\n",
    "for _ in range (1000):\n",
    "    list_scenario=[]\n",
    "    for _ in range (30):\n",
    "        list_scenario.append(list_rain_total[random.randint(0,29)]) ## Choose a year that goes from element zero to 24 from the list with 25 elements, if the list has more than 25 years or less, it has to change\n",
    "    list_scenarios_rain.append(list_scenario)\n",
    "\n",
    "#to save the data to a new csv file (with the data of each scenario in a single row - 1000 rows each with 30 years of data)\n",
    "with open('inputcode3_Rain_FOR_1000_years.csv', 'w',encoding = 'UTF-8') as doc:\n",
    "    for j in list_scenarios_rain:\n",
    "        for h in j:\n",
    "            doc.write(((((((str(h).replace('\\n','')).replace(\" \",\"\")).replace(\"['\",\"\")).replace(\"']\",\"\")).replace(\"[\",\"\")).replace(\"]\",\"\"))+';')\n",
    "        doc.write('\\n') "
   ]
  }
 ],
 "metadata": {
  "colab": {
   "collapsed_sections": [],
   "name": "Teste_2_Gabriela Pacheco.ipynb",
   "provenance": []
  },
  "kernelspec": {
   "display_name": "Python 3 (ipykernel)",
   "language": "python",
   "name": "python3"
  },
  "language_info": {
   "codemirror_mode": {
    "name": "ipython",
    "version": 3
   },
   "file_extension": ".py",
   "mimetype": "text/x-python",
   "name": "python",
   "nbconvert_exporter": "python",
   "pygments_lexer": "ipython3",
   "version": "3.9.7"
  }
 },
 "nbformat": 4,
 "nbformat_minor": 1
}
