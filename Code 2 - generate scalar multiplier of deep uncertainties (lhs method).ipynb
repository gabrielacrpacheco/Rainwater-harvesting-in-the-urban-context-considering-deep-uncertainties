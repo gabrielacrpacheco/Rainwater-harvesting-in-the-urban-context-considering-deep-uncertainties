{
 "cells": [
  {
   "cell_type": "code",
   "execution_count": 5,
   "id": "fa8e4d1e",
   "metadata": {},
   "outputs": [],
   "source": [
    "####CONNECTIONS, OPERATING EXPENSES\n",
    "##Making - 1 sample of 1000 elements (same rate for all years of lifespan).\n",
    "##Uses Latin Hipercube Sampling method to determine the values.\n",
    "##Input data: minimum and maximum limits for each parameter.\n",
    "##Obs: the results files are created by the program and saved to the folder where that script is saved.\n",
    "##Obs: for this script to run, you must install the pyDOE module (prompt - pip install pyDOE).\n",
    "\n",
    "from pyDOE import lhs\n",
    "import csv\n",
    "\n",
    "###CONNECTIONS\n",
    "#Generating LHS samples:\n",
    "list_dr=[] \n",
    "LHS1=lhs(1000,1, None, None) #1 sample of 1000 variables, whose values vary between 0 and 1, will be generated, arranged in a single column.\n",
    "adjust1= (LHS1*0.14 + 0.96) #adjust to the correct range - in this example, the range is 0.94 - 1.11.\n",
    "adjust1T=adjust1.T\n",
    "list_dr=(adjust1T.tolist())\n",
    "#Export of LHS samples generated to csv\n",
    "with open('inputcode3_Connections_Por.csv', 'w',encoding = 'UTF-8',newline='') as LHS_doc:\n",
    "    for j1 in list_dr:\n",
    "        n=1\n",
    "        while n<30:\n",
    "            LHS_doc.write(((str(j1).replace('[','')).replace(\"]\",\"\"))+',')\n",
    "            n+=1\n",
    "        LHS_doc.write(((str(j1).replace('[','')).replace(\"]\",\"\"))+'\\n') #\\n to stand on separate lines and take the comma out of the end  \n",
    "\n",
    "###OPERATING EXPENSES\n",
    "#Generating LHS samples:\n",
    "list_tar=[] \n",
    "LHS2=lhs(1000,1, None, None) #1 sample of 1000 variables, whose values vary between 0 and 1, will be generated, arranged in a single column.\n",
    "adjust2= (LHS2*0.48 + 0.87) #adjust to the correct range - in this example, the range is 0.81 - 1.5.\n",
    "adjust2T=adjust2.T\n",
    "list_tar=(adjust2T.tolist())\n",
    "#Export of LHS samples generated to csv\n",
    "with open('inputcode3_Operatingexpenses_Por.csv', 'w',encoding = 'UTF-8',newline='') as LHS_doc:\n",
    "    for j2 in list_tar:\n",
    "        n=1\n",
    "        while n<30:\n",
    "            LHS_doc.write(((str(j2).replace('[','')).replace(\"]\",\"\"))+',')\n",
    "            n+=1\n",
    "        LHS_doc.write(((str(j2).replace('[','')).replace(\"]\",\"\"))+'\\n') #\\n to stand on separate lines and take the comma out of the end\n",
    "        \n"
   ]
  },
  {
   "cell_type": "code",
   "execution_count": null,
   "id": "52f53890",
   "metadata": {},
   "outputs": [],
   "source": [
    "###DISCOUNT RATE\n",
    "#Generating LHS samples:\n",
    "list_tar=[] \n",
    "LHS2=lhs(1000,1, None, None) #1 sample of 1000 variables, whose values vary between 0 and 1, will be generated, arranged in a single column.\n",
    "adjust2= (LHS2*1 + 0.4) #adjust to the correct range - in this example, the range is 0.4 - 2.\n",
    "adjust2T=adjust2.T\n",
    "list_tar=(adjust2T.tolist())\n",
    "#Export of LHS samples generated to csv\n",
    "with open('inputcode3_Discountrate_cte.csv', 'w',encoding = 'UTF-8',newline='') as LHS_doc:\n",
    "    for j2 in list_tar:\n",
    "        n=1\n",
    "        while n<30:\n",
    "            LHS_doc.write(((str(j2).replace('[','')).replace(\"]\",\"\"))+',')\n",
    "            n+=1\n",
    "        LHS_doc.write(((str(j2).replace('[','')).replace(\"]\",\"\"))+'\\n') #\\n to stand on separate lines and take the comma out of the end\n"
   ]
  }
 ],
 "metadata": {
  "kernelspec": {
   "display_name": "Python 3 (ipykernel)",
   "language": "python",
   "name": "python3"
  },
  "language_info": {
   "codemirror_mode": {
    "name": "ipython",
    "version": 3
   },
   "file_extension": ".py",
   "mimetype": "text/x-python",
   "name": "python",
   "nbconvert_exporter": "python",
   "pygments_lexer": "ipython3",
   "version": "3.9.7"
  }
 },
 "nbformat": 4,
 "nbformat_minor": 5
}
